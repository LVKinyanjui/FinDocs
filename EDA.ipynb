{
 "cells": [
  {
   "cell_type": "markdown",
   "metadata": {},
   "source": [
    "We are going to analyse a document at our disposal that contains hyperlinks to PDFs. We would like to know something about this dataset in preparation for some RPA processes. We may be interested to know:\n",
    "\n",
    "1. Hyperlink distribution.  \n",
    "    Do they have the same base url?  \n",
    "        If so, this might mean less variance in PDF structure (the easy case)."
   ]
  },
  {
   "cell_type": "code",
   "execution_count": 4,
   "metadata": {},
   "outputs": [],
   "source": [
    "import pandas as pd"
   ]
  },
  {
   "cell_type": "markdown",
   "metadata": {},
   "source": [
    "## Exploratory Analysis"
   ]
  },
  {
   "cell_type": "code",
   "execution_count": 5,
   "metadata": {},
   "outputs": [],
   "source": [
    "data = pd.read_excel(\"data/AI Automation Project.xlsx\")"
   ]
  },
  {
   "cell_type": "code",
   "execution_count": 6,
   "metadata": {},
   "outputs": [
    {
     "data": {
      "text/html": [
       "<div>\n",
       "<style scoped>\n",
       "    .dataframe tbody tr th:only-of-type {\n",
       "        vertical-align: middle;\n",
       "    }\n",
       "\n",
       "    .dataframe tbody tr th {\n",
       "        vertical-align: top;\n",
       "    }\n",
       "\n",
       "    .dataframe thead th {\n",
       "        text-align: right;\n",
       "    }\n",
       "</style>\n",
       "<table border=\"1\" class=\"dataframe\">\n",
       "  <thead>\n",
       "    <tr style=\"text-align: right;\">\n",
       "      <th></th>\n",
       "      <th>index_new</th>\n",
       "      <th>index_old</th>\n",
       "      <th>document_id</th>\n",
       "      <th>company_id</th>\n",
       "      <th>name_comp</th>\n",
       "      <th>country</th>\n",
       "      <th>year</th>\n",
       "      <th>comment</th>\n",
       "      <th>href_doc</th>\n",
       "      <th>mda_begin</th>\n",
       "      <th>...</th>\n",
       "      <th>fs_begin</th>\n",
       "      <th>fs_end</th>\n",
       "      <th>audit_begin</th>\n",
       "      <th>audit_end</th>\n",
       "      <th>status</th>\n",
       "      <th>manually_merged_document</th>\n",
       "      <th>description_problem</th>\n",
       "      <th>no_hit_checked</th>\n",
       "      <th>hits_checked</th>\n",
       "      <th>download_problems</th>\n",
       "    </tr>\n",
       "  </thead>\n",
       "  <tbody>\n",
       "    <tr>\n",
       "      <th>0</th>\n",
       "      <td>0</td>\n",
       "      <td>0.0</td>\n",
       "      <td>NaN</td>\n",
       "      <td>013fe637-396a-45a9-84aa-15fdaceab849</td>\n",
       "      <td>Bank Pekao</td>\n",
       "      <td>Poland</td>\n",
       "      <td>2018</td>\n",
       "      <td>updated fs_begin &amp; fs_end</td>\n",
       "      <td>https://www.dropbox.com/scl/fi/fywjtk4nbzbg19p...</td>\n",
       "      <td>NaN</td>\n",
       "      <td>...</td>\n",
       "      <td>3</td>\n",
       "      <td>183</td>\n",
       "      <td>186</td>\n",
       "      <td>194</td>\n",
       "      <td>NaN</td>\n",
       "      <td>YES</td>\n",
       "      <td>separate documents for fs and audit</td>\n",
       "      <td>NaN</td>\n",
       "      <td>NaN</td>\n",
       "      <td>NaN</td>\n",
       "    </tr>\n",
       "    <tr>\n",
       "      <th>1</th>\n",
       "      <td>1</td>\n",
       "      <td>1.0</td>\n",
       "      <td>8691c8f9-c07e-459e-989e-de3b0cdb6fda</td>\n",
       "      <td>013fe637-396a-45a9-84aa-15fdaceab849</td>\n",
       "      <td>Bank Pekao</td>\n",
       "      <td>Poland</td>\n",
       "      <td>2019</td>\n",
       "      <td>updated fs_begin &amp; fs_end</td>\n",
       "      <td>https://www.dropbox.com/scl/fi/7zph7b0hhoc8y1f...</td>\n",
       "      <td>NaN</td>\n",
       "      <td>...</td>\n",
       "      <td>3</td>\n",
       "      <td>184</td>\n",
       "      <td>187</td>\n",
       "      <td>195</td>\n",
       "      <td>NaN</td>\n",
       "      <td>YES</td>\n",
       "      <td>separate documents for fs and audit</td>\n",
       "      <td>NaN</td>\n",
       "      <td>NaN</td>\n",
       "      <td>NaN</td>\n",
       "    </tr>\n",
       "  </tbody>\n",
       "</table>\n",
       "<p>2 rows × 21 columns</p>\n",
       "</div>"
      ],
      "text/plain": [
       "   index_new  index_old                           document_id  \\\n",
       "0          0        0.0                                   NaN   \n",
       "1          1        1.0  8691c8f9-c07e-459e-989e-de3b0cdb6fda   \n",
       "\n",
       "                             company_id   name_comp country  year  \\\n",
       "0  013fe637-396a-45a9-84aa-15fdaceab849  Bank Pekao  Poland  2018   \n",
       "1  013fe637-396a-45a9-84aa-15fdaceab849  Bank Pekao  Poland  2019   \n",
       "\n",
       "                     comment  \\\n",
       "0  updated fs_begin & fs_end   \n",
       "1  updated fs_begin & fs_end   \n",
       "\n",
       "                                            href_doc mda_begin  ... fs_begin  \\\n",
       "0  https://www.dropbox.com/scl/fi/fywjtk4nbzbg19p...       NaN  ...        3   \n",
       "1  https://www.dropbox.com/scl/fi/7zph7b0hhoc8y1f...       NaN  ...        3   \n",
       "\n",
       "  fs_end audit_begin audit_end status manually_merged_document  \\\n",
       "0    183         186       194    NaN                      YES   \n",
       "1    184         187       195    NaN                      YES   \n",
       "\n",
       "                   description_problem no_hit_checked hits_checked  \\\n",
       "0  separate documents for fs and audit            NaN          NaN   \n",
       "1  separate documents for fs and audit            NaN          NaN   \n",
       "\n",
       "  download_problems  \n",
       "0               NaN  \n",
       "1               NaN  \n",
       "\n",
       "[2 rows x 21 columns]"
      ]
     },
     "execution_count": 6,
     "metadata": {},
     "output_type": "execute_result"
    }
   ],
   "source": [
    "data.head(2)"
   ]
  },
  {
   "cell_type": "code",
   "execution_count": 7,
   "metadata": {},
   "outputs": [
    {
     "data": {
      "text/plain": [
       "(3020, 21)"
      ]
     },
     "execution_count": 7,
     "metadata": {},
     "output_type": "execute_result"
    }
   ],
   "source": [
    "data.shape"
   ]
  },
  {
   "cell_type": "code",
   "execution_count": 8,
   "metadata": {},
   "outputs": [],
   "source": [
    "h_data = data.href_doc"
   ]
  },
  {
   "cell_type": "code",
   "execution_count": 9,
   "metadata": {},
   "outputs": [
    {
     "data": {
      "text/plain": [
       "2730"
      ]
     },
     "execution_count": 9,
     "metadata": {},
     "output_type": "execute_result"
    }
   ],
   "source": [
    "len(h_data.unique())"
   ]
  },
  {
   "cell_type": "markdown",
   "metadata": {},
   "source": [
    "### Missing Values"
   ]
  },
  {
   "cell_type": "code",
   "execution_count": 25,
   "metadata": {},
   "outputs": [
    {
     "data": {
      "text/plain": [
       "-191"
      ]
     },
     "execution_count": 25,
     "metadata": {},
     "output_type": "execute_result"
    }
   ],
   "source": [
    "missing = h_data.isna()\n",
    "missing.sum()"
   ]
  },
  {
   "cell_type": "code",
   "execution_count": 28,
   "metadata": {},
   "outputs": [
    {
     "data": {
      "text/plain": [
       "0       https://www.dropbox.com/scl/fi/fywjtk4nbzbg19p...\n",
       "1       https://www.dropbox.com/scl/fi/7zph7b0hhoc8y1f...\n",
       "2       https://www.dropbox.com/scl/fi/tac8efxarvhc4cg...\n",
       "3       https://www.dropbox.com/scl/fi/evy9rgz5p40i03y...\n",
       "4       https://www.dropbox.com/scl/fi/5988ou1lsj9vg4r...\n",
       "                              ...                        \n",
       "3012    https://www.siemensgamesa.com/-/media/siemensg...\n",
       "3013    https://www.siemensgamesa.com/en-int/-/media/s...\n",
       "3015    https://www.atlantia.com/documents/37344/19820...\n",
       "3016    https://www.atlantia.com/documents/37344/19821...\n",
       "3019    https://www.mundys.com/documents/37344/798825/...\n",
       "Name: href_doc, Length: 2830, dtype: object"
      ]
     },
     "execution_count": 28,
     "metadata": {},
     "output_type": "execute_result"
    }
   ],
   "source": [
    "# The tilda flips true to false so we keep the non missing data\n",
    "h_data_ = h_data[~missing]\n",
    "h_data_"
   ]
  },
  {
   "cell_type": "markdown",
   "metadata": {},
   "source": [
    "### Find Unique URLS"
   ]
  },
  {
   "cell_type": "code",
   "execution_count": 29,
   "metadata": {},
   "outputs": [],
   "source": [
    "import re\n",
    "from urllib.parse import urlparse"
   ]
  },
  {
   "cell_type": "code",
   "execution_count": 30,
   "metadata": {},
   "outputs": [],
   "source": [
    "\n",
    "def get_base_urls(urls):\n",
    "    base_urls = []\n",
    "    for url in urls:\n",
    "        try:\n",
    "            parsed = urlparse(url)\n",
    "            base_url = parsed.scheme + '://' + parsed.netloc\n",
    "            base_urls.append(base_url)\n",
    "        except AttributeError:\n",
    "            print('AttributeError: {}'.format(url))\n",
    "            continue\n",
    "    \n",
    "    return base_urls\n"
   ]
  },
  {
   "cell_type": "code",
   "execution_count": 33,
   "metadata": {},
   "outputs": [],
   "source": [
    "base_urls = get_base_urls(h_data_)"
   ]
  },
  {
   "cell_type": "markdown",
   "metadata": {},
   "source": [
    "### Unique Frequencies\n",
    "\n",
    "List the unique domain types."
   ]
  },
  {
   "cell_type": "code",
   "execution_count": 47,
   "metadata": {},
   "outputs": [
    {
     "data": {
      "text/html": [
       "<div>\n",
       "<style scoped>\n",
       "    .dataframe tbody tr th:only-of-type {\n",
       "        vertical-align: middle;\n",
       "    }\n",
       "\n",
       "    .dataframe tbody tr th {\n",
       "        vertical-align: top;\n",
       "    }\n",
       "\n",
       "    .dataframe thead th {\n",
       "        text-align: right;\n",
       "    }\n",
       "</style>\n",
       "<table border=\"1\" class=\"dataframe\">\n",
       "  <thead>\n",
       "    <tr style=\"text-align: right;\">\n",
       "      <th></th>\n",
       "      <th>unique</th>\n",
       "      <th>frequency</th>\n",
       "    </tr>\n",
       "  </thead>\n",
       "  <tbody>\n",
       "    <tr>\n",
       "      <th>0</th>\n",
       "      <td>https://www.annualreports.com</td>\n",
       "      <td>183</td>\n",
       "    </tr>\n",
       "    <tr>\n",
       "      <th>1</th>\n",
       "      <td>https://mb.cision.com</td>\n",
       "      <td>36</td>\n",
       "    </tr>\n",
       "    <tr>\n",
       "      <th>2</th>\n",
       "      <td>://</td>\n",
       "      <td>30</td>\n",
       "    </tr>\n",
       "    <tr>\n",
       "      <th>3</th>\n",
       "      <td>https://www.dropbox.com</td>\n",
       "      <td>26</td>\n",
       "    </tr>\n",
       "    <tr>\n",
       "      <th>4</th>\n",
       "      <td>https://www.google.com</td>\n",
       "      <td>16</td>\n",
       "    </tr>\n",
       "  </tbody>\n",
       "</table>\n",
       "</div>"
      ],
      "text/plain": [
       "                          unique  frequency\n",
       "0  https://www.annualreports.com        183\n",
       "1          https://mb.cision.com         36\n",
       "2                            ://         30\n",
       "3        https://www.dropbox.com         26\n",
       "4         https://www.google.com         16"
      ]
     },
     "execution_count": 47,
     "metadata": {},
     "output_type": "execute_result"
    }
   ],
   "source": [
    "# Get unique values and frequencies\n",
    "domain_frequencies = pd.DataFrame(pd.Series(base_urls).value_counts()) \n",
    "\n",
    "# Reset index to make values a column\n",
    "domain_frequencies = domain_frequencies.reset_index()\n",
    "\n",
    "# Rename columns\n",
    "domain_frequencies.columns = ['unique', 'frequency']\n",
    "domain_frequencies.head()"
   ]
  },
  {
   "cell_type": "code",
   "execution_count": 39,
   "metadata": {},
   "outputs": [
    {
     "data": {
      "text/plain": [
       "718"
      ]
     },
     "execution_count": 39,
     "metadata": {},
     "output_type": "execute_result"
    }
   ],
   "source": [
    "len(base_urls_unique)"
   ]
  },
  {
   "cell_type": "markdown",
   "metadata": {},
   "source": [
    "#### Remarks\n",
    "There are over 700 domain types in our dataset. This informs us that our data is quite varied and so may be the nature of our PDFs."
   ]
  },
  {
   "cell_type": "markdown",
   "metadata": {},
   "source": [
    "### Visualization"
   ]
  },
  {
   "cell_type": "code",
   "execution_count": 55,
   "metadata": {},
   "outputs": [],
   "source": [
    "import seaborn as sns\n",
    "import matplotlib.pyplot as plt"
   ]
  },
  {
   "cell_type": "code",
   "execution_count": 59,
   "metadata": {},
   "outputs": [
    {
     "data": {
      "image/png": "[encoded data removed]",
      "text/plain": [
       "<Figure size 640x480 with 1 Axes>"
      ]
     },
     "metadata": {},
     "output_type": "display_data"
    }
   ],
   "source": [
    "df = domain_frequencies.head()\n",
    "\n",
    "sns.barplot(x='unique', y='frequency', data=df)\n",
    "plt.xticks(rotation=90)\n",
    "plt.show()"
   ]
  },
  {
   "cell_type": "markdown",
   "metadata": {},
   "source": [
    "#### Remarks\n",
    "Now that we are aware of the most frequent domain types, we can turn our attention to those first before knocking down the rest."
   ]
  },
  {
   "cell_type": "code",
   "execution_count": null,
   "metadata": {},
   "outputs": [],
   "source": []
  }
 ],
 "metadata": {
  "kernelspec": {
   "display_name": "findocs",
   "language": "python",
   "name": "findocs"
  },
  "language_info": {
   "codemirror_mode": {
    "name": "ipython",
    "version": 3
   },
   "file_extension": ".py",
   "mimetype": "text/x-python",
   "name": "python",
   "nbconvert_exporter": "python",
   "pygments_lexer": "ipython3",
   "version": "3.10.4"
  }
 },
 "nbformat": 4,
 "nbformat_minor": 2
}
